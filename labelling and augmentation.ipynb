{
 "cells": [
  {
   "cell_type": "code",
   "execution_count": 1,
   "metadata": {
    "collapsed": false
   },
   "outputs": [],
   "source": [
    "from numpy.random import seed\n",
    "seed(101)\n",
    "from tensorflow import set_random_seed\n",
    "set_random_seed(101)\n",
    "\n",
    "import pandas as pd\n",
    "import numpy as np\n",
    "#import keras\n",
    "#from keras import backend as K\n",
    "\n",
    "import tensorflow\n",
    "from tensorflow.keras.layers import Dense, Dropout\n",
    "from tensorflow.keras.optimizers import Adam\n",
    "from tensorflow.keras.metrics import categorical_crossentropy\n",
    "from tensorflow.keras.preprocessing.image import ImageDataGenerator\n",
    "from tensorflow.keras.models import Model\n",
    "from tensorflow.keras.callbacks import EarlyStopping, ReduceLROnPlateau, ModelCheckpoint\n",
    "\n",
    "import os\n",
    "\n",
    "\n",
    "import itertools\n",
    "import shutil\n",
    "import matplotlib.pyplot as plt\n",
    "%matplotlib inline\n"
   ]
  },
  {
   "cell_type": "code",
   "execution_count": 18,
   "metadata": {
    "collapsed": true
   },
   "outputs": [],
   "source": [
    "os.listdir('F:/CBIS-DDSM/compressed/MASS TRAINING/training')\n",
    "\n",
    "base_dir = 'base_dir'\n",
    "os.mkdir(base_dir)\n"
   ]
  },
  {
   "cell_type": "code",
   "execution_count": 19,
   "metadata": {
    "collapsed": true
   },
   "outputs": [],
   "source": [
    "# train_dir\n",
    "train_dir = os.path.join(base_dir, 'train_dir')\n",
    "os.mkdir(train_dir)\n",
    "\n",
    "# val_dir\n",
    "val_dir = os.path.join(base_dir, 'val_dir')\n",
    "os.mkdir(val_dir)\n"
   ]
  },
  {
   "cell_type": "code",
   "execution_count": 20,
   "metadata": {
    "collapsed": true
   },
   "outputs": [],
   "source": [
    "# create new folders inside train_dir\n",
    "MALIGNANT_calcification= os.path.join(train_dir, 'MALIGNANT_calcification')\n",
    "os.mkdir(MALIGNANT_calcification)\n",
    "BENIGN_calcification = os.path.join(train_dir, 'BENIGN_calcification')\n",
    "os.mkdir(BENIGN_calcification)\n",
    "BENIGN_mass= os.path.join(train_dir, 'BENIGN_mass')\n",
    "os.mkdir(BENIGN_mass)\n",
    "MALIGNANT_mass = os.path.join(train_dir, 'MALIGNANT_mass ')\n",
    "os.mkdir(MALIGNANT_mass )\n",
    "\n",
    "\n",
    "\n",
    "MALIGNANT_calcification= os.path.join(val_dir, 'MALIGNANT_calcification')\n",
    "os.mkdir(MALIGNANT_calcification)\n",
    "BENIGN_calcification = os.path.join(val_dir, 'BENIGN_calcification')\n",
    "os.mkdir(BENIGN_calcification)\n",
    "\n",
    "BENIGN_mass= os.path.join(val_dir, 'BENIGN_mass')\n",
    "os.mkdir(BENIGN_mass)\n",
    "MALIGNANT_mass = os.path.join(val_dir, 'MALIGNANT_mass ')\n",
    "os.mkdir(MALIGNANT_mass )"
   ]
  },
  {
   "cell_type": "code",
   "execution_count": 168,
   "metadata": {
    "collapsed": false
   },
   "outputs": [
    {
     "data": {
      "text/html": [
       "<div>\n",
       "<style scoped>\n",
       "    .dataframe tbody tr th:only-of-type {\n",
       "        vertical-align: middle;\n",
       "    }\n",
       "\n",
       "    .dataframe tbody tr th {\n",
       "        vertical-align: top;\n",
       "    }\n",
       "\n",
       "    .dataframe thead th {\n",
       "        text-align: right;\n",
       "    }\n",
       "</style>\n",
       "<table border=\"1\" class=\"dataframe\">\n",
       "  <thead>\n",
       "    <tr style=\"text-align: right;\">\n",
       "      <th></th>\n",
       "      <th>Image_Name</th>\n",
       "      <th>Patient_ID</th>\n",
       "      <th>Breast_Density</th>\n",
       "      <th>Side_L_R</th>\n",
       "      <th>Image View</th>\n",
       "      <th>Abnormality_ID</th>\n",
       "      <th>Abnormality_Type</th>\n",
       "      <th>Mass_Shape</th>\n",
       "      <th>Mass_Margins</th>\n",
       "      <th>Assessment</th>\n",
       "      <th>Pathology</th>\n",
       "      <th>Subtlety</th>\n",
       "      <th>Class</th>\n",
       "    </tr>\n",
       "  </thead>\n",
       "  <tbody>\n",
       "    <tr>\n",
       "      <th>0</th>\n",
       "      <td>P_00005_RIGHT_CC</td>\n",
       "      <td>P_00005</td>\n",
       "      <td>3</td>\n",
       "      <td>RIGHT</td>\n",
       "      <td>CC</td>\n",
       "      <td>1</td>\n",
       "      <td>calcification</td>\n",
       "      <td>AMORPHOUS</td>\n",
       "      <td>CLUSTERED</td>\n",
       "      <td>3</td>\n",
       "      <td>MALIGNANT</td>\n",
       "      <td>3</td>\n",
       "      <td>MALIGNANT_calcification</td>\n",
       "    </tr>\n",
       "    <tr>\n",
       "      <th>1</th>\n",
       "      <td>P_00005_RIGHT_MLO</td>\n",
       "      <td>P_00005</td>\n",
       "      <td>3</td>\n",
       "      <td>RIGHT</td>\n",
       "      <td>MLO</td>\n",
       "      <td>1</td>\n",
       "      <td>calcification</td>\n",
       "      <td>AMORPHOUS</td>\n",
       "      <td>CLUSTERED</td>\n",
       "      <td>3</td>\n",
       "      <td>MALIGNANT</td>\n",
       "      <td>3</td>\n",
       "      <td>MALIGNANT_calcification</td>\n",
       "    </tr>\n",
       "    <tr>\n",
       "      <th>2</th>\n",
       "      <td>P_00007_LEFT_CC</td>\n",
       "      <td>P_00007</td>\n",
       "      <td>4</td>\n",
       "      <td>LEFT</td>\n",
       "      <td>CC</td>\n",
       "      <td>1</td>\n",
       "      <td>calcification</td>\n",
       "      <td>PLEOMORPHIC</td>\n",
       "      <td>LINEAR</td>\n",
       "      <td>4</td>\n",
       "      <td>BENIGN</td>\n",
       "      <td>4</td>\n",
       "      <td>BENIGN_calcification</td>\n",
       "    </tr>\n",
       "    <tr>\n",
       "      <th>3</th>\n",
       "      <td>P_00007_LEFT_MLO</td>\n",
       "      <td>P_00007</td>\n",
       "      <td>4</td>\n",
       "      <td>LEFT</td>\n",
       "      <td>MLO</td>\n",
       "      <td>1</td>\n",
       "      <td>calcification</td>\n",
       "      <td>PLEOMORPHIC</td>\n",
       "      <td>LINEAR</td>\n",
       "      <td>4</td>\n",
       "      <td>BENIGN</td>\n",
       "      <td>4</td>\n",
       "      <td>BENIGN_calcification</td>\n",
       "    </tr>\n",
       "    <tr>\n",
       "      <th>4</th>\n",
       "      <td>P_00008_LEFT_CC</td>\n",
       "      <td>P_00008</td>\n",
       "      <td>1</td>\n",
       "      <td>LEFT</td>\n",
       "      <td>CC</td>\n",
       "      <td>1</td>\n",
       "      <td>calcification</td>\n",
       "      <td>NaN</td>\n",
       "      <td>REGIONAL</td>\n",
       "      <td>2</td>\n",
       "      <td>BENIGN</td>\n",
       "      <td>3</td>\n",
       "      <td>BENIGN_calcification</td>\n",
       "    </tr>\n",
       "  </tbody>\n",
       "</table>\n",
       "</div>"
      ],
      "text/plain": [
       "          Image_Name Patient_ID  Breast_Density Side_L_R Image View  \\\n",
       "0   P_00005_RIGHT_CC    P_00005               3    RIGHT         CC   \n",
       "1  P_00005_RIGHT_MLO    P_00005               3    RIGHT        MLO   \n",
       "2    P_00007_LEFT_CC    P_00007               4     LEFT         CC   \n",
       "3   P_00007_LEFT_MLO    P_00007               4     LEFT        MLO   \n",
       "4    P_00008_LEFT_CC    P_00008               1     LEFT         CC   \n",
       "\n",
       "   Abnormality_ID Abnormality_Type   Mass_Shape Mass_Margins  Assessment  \\\n",
       "0               1    calcification    AMORPHOUS    CLUSTERED           3   \n",
       "1               1    calcification    AMORPHOUS    CLUSTERED           3   \n",
       "2               1    calcification  PLEOMORPHIC       LINEAR           4   \n",
       "3               1    calcification  PLEOMORPHIC       LINEAR           4   \n",
       "4               1    calcification          NaN     REGIONAL           2   \n",
       "\n",
       "   Pathology  Subtlety                    Class  \n",
       "0  MALIGNANT         3  MALIGNANT_calcification  \n",
       "1  MALIGNANT         3  MALIGNANT_calcification  \n",
       "2     BENIGN         4     BENIGN_calcification  \n",
       "3     BENIGN         4     BENIGN_calcification  \n",
       "4     BENIGN         3     BENIGN_calcification  "
      ]
     },
     "execution_count": 168,
     "metadata": {},
     "output_type": "execute_result"
    }
   ],
   "source": [
    "df_data = pd.read_csv('F:/CBIS-DDSM/compressed/MASS TRAINING/training/train_label.csv')\n",
    "\n",
    "df_data.head()"
   ]
  },
  {
   "cell_type": "code",
   "execution_count": 169,
   "metadata": {
    "collapsed": false
   },
   "outputs": [
    {
     "data": {
      "text/html": [
       "<div>\n",
       "<style scoped>\n",
       "    .dataframe tbody tr th:only-of-type {\n",
       "        vertical-align: middle;\n",
       "    }\n",
       "\n",
       "    .dataframe tbody tr th {\n",
       "        vertical-align: top;\n",
       "    }\n",
       "\n",
       "    .dataframe thead th {\n",
       "        text-align: right;\n",
       "    }\n",
       "</style>\n",
       "<table border=\"1\" class=\"dataframe\">\n",
       "  <thead>\n",
       "    <tr style=\"text-align: right;\">\n",
       "      <th></th>\n",
       "      <th>Image_Name</th>\n",
       "      <th>Patient_ID</th>\n",
       "      <th>Breast_Density</th>\n",
       "      <th>Side_L_R</th>\n",
       "      <th>Image View</th>\n",
       "      <th>Abnormality_ID</th>\n",
       "      <th>Abnormality_Type</th>\n",
       "      <th>Mass_Shape</th>\n",
       "      <th>Mass_Margins</th>\n",
       "      <th>Assessment</th>\n",
       "      <th>Pathology</th>\n",
       "      <th>Subtlety</th>\n",
       "      <th>Class</th>\n",
       "    </tr>\n",
       "  </thead>\n",
       "  <tbody>\n",
       "    <tr>\n",
       "      <th>0</th>\n",
       "      <td>P_00001_LEFT_CC</td>\n",
       "      <td>1</td>\n",
       "      <td>1</td>\n",
       "      <td>1</td>\n",
       "      <td>1</td>\n",
       "      <td>1</td>\n",
       "      <td>1</td>\n",
       "      <td>1</td>\n",
       "      <td>1</td>\n",
       "      <td>1</td>\n",
       "      <td>1</td>\n",
       "      <td>1</td>\n",
       "      <td>1</td>\n",
       "    </tr>\n",
       "    <tr>\n",
       "      <th>1</th>\n",
       "      <td>P_00001_LEFT_MLO</td>\n",
       "      <td>1</td>\n",
       "      <td>1</td>\n",
       "      <td>1</td>\n",
       "      <td>1</td>\n",
       "      <td>1</td>\n",
       "      <td>1</td>\n",
       "      <td>1</td>\n",
       "      <td>1</td>\n",
       "      <td>1</td>\n",
       "      <td>1</td>\n",
       "      <td>1</td>\n",
       "      <td>1</td>\n",
       "    </tr>\n",
       "    <tr>\n",
       "      <th>2</th>\n",
       "      <td>P_00004_LEFT_CC</td>\n",
       "      <td>1</td>\n",
       "      <td>1</td>\n",
       "      <td>1</td>\n",
       "      <td>1</td>\n",
       "      <td>1</td>\n",
       "      <td>1</td>\n",
       "      <td>1</td>\n",
       "      <td>1</td>\n",
       "      <td>1</td>\n",
       "      <td>1</td>\n",
       "      <td>1</td>\n",
       "      <td>1</td>\n",
       "    </tr>\n",
       "    <tr>\n",
       "      <th>3</th>\n",
       "      <td>P_00004_LEFT_MLO</td>\n",
       "      <td>1</td>\n",
       "      <td>1</td>\n",
       "      <td>1</td>\n",
       "      <td>1</td>\n",
       "      <td>1</td>\n",
       "      <td>1</td>\n",
       "      <td>1</td>\n",
       "      <td>1</td>\n",
       "      <td>1</td>\n",
       "      <td>1</td>\n",
       "      <td>1</td>\n",
       "      <td>1</td>\n",
       "    </tr>\n",
       "    <tr>\n",
       "      <th>4</th>\n",
       "      <td>P_00004_RIGHT_MLO</td>\n",
       "      <td>1</td>\n",
       "      <td>1</td>\n",
       "      <td>1</td>\n",
       "      <td>1</td>\n",
       "      <td>1</td>\n",
       "      <td>1</td>\n",
       "      <td>1</td>\n",
       "      <td>1</td>\n",
       "      <td>1</td>\n",
       "      <td>1</td>\n",
       "      <td>1</td>\n",
       "      <td>1</td>\n",
       "    </tr>\n",
       "  </tbody>\n",
       "</table>\n",
       "</div>"
      ],
      "text/plain": [
       "          Image_Name  Patient_ID  Breast_Density  Side_L_R  Image View  \\\n",
       "0    P_00001_LEFT_CC           1               1         1           1   \n",
       "1   P_00001_LEFT_MLO           1               1         1           1   \n",
       "2    P_00004_LEFT_CC           1               1         1           1   \n",
       "3   P_00004_LEFT_MLO           1               1         1           1   \n",
       "4  P_00004_RIGHT_MLO           1               1         1           1   \n",
       "\n",
       "   Abnormality_ID  Abnormality_Type  Mass_Shape  Mass_Margins  Assessment  \\\n",
       "0               1                 1           1             1           1   \n",
       "1               1                 1           1             1           1   \n",
       "2               1                 1           1             1           1   \n",
       "3               1                 1           1             1           1   \n",
       "4               1                 1           1             1           1   \n",
       "\n",
       "   Pathology  Subtlety  Class  \n",
       "0          1         1      1  \n",
       "1          1         1      1  \n",
       "2          1         1      1  \n",
       "3          1         1      1  \n",
       "4          1         1      1  "
      ]
     },
     "execution_count": 169,
     "metadata": {},
     "output_type": "execute_result"
    }
   ],
   "source": [
    "# this will tell us how many images are associated with each lesion_id\n",
    "df = df_data.groupby('Image_Name').count()\n",
    "\n",
    "# now we filter out lesion_id's that have only one image associated with it\n",
    "df = df[df['Patient_ID'] == 1]\n",
    "\n",
    "df.reset_index(inplace=True)\n",
    "\n",
    "df.head()"
   ]
  },
  {
   "cell_type": "code",
   "execution_count": 170,
   "metadata": {
    "collapsed": false
   },
   "outputs": [
    {
     "data": {
      "text/html": [
       "<div>\n",
       "<style scoped>\n",
       "    .dataframe tbody tr th:only-of-type {\n",
       "        vertical-align: middle;\n",
       "    }\n",
       "\n",
       "    .dataframe tbody tr th {\n",
       "        vertical-align: top;\n",
       "    }\n",
       "\n",
       "    .dataframe thead th {\n",
       "        text-align: right;\n",
       "    }\n",
       "</style>\n",
       "<table border=\"1\" class=\"dataframe\">\n",
       "  <thead>\n",
       "    <tr style=\"text-align: right;\">\n",
       "      <th></th>\n",
       "      <th>Image_Name</th>\n",
       "      <th>Patient_ID</th>\n",
       "      <th>Breast_Density</th>\n",
       "      <th>Side_L_R</th>\n",
       "      <th>Image View</th>\n",
       "      <th>Abnormality_ID</th>\n",
       "      <th>Abnormality_Type</th>\n",
       "      <th>Mass_Shape</th>\n",
       "      <th>Mass_Margins</th>\n",
       "      <th>Assessment</th>\n",
       "      <th>Pathology</th>\n",
       "      <th>Subtlety</th>\n",
       "      <th>Class</th>\n",
       "      <th>duplicates</th>\n",
       "    </tr>\n",
       "  </thead>\n",
       "  <tbody>\n",
       "    <tr>\n",
       "      <th>0</th>\n",
       "      <td>P_00005_RIGHT_CC</td>\n",
       "      <td>P_00005</td>\n",
       "      <td>3</td>\n",
       "      <td>RIGHT</td>\n",
       "      <td>CC</td>\n",
       "      <td>1</td>\n",
       "      <td>calcification</td>\n",
       "      <td>AMORPHOUS</td>\n",
       "      <td>CLUSTERED</td>\n",
       "      <td>3</td>\n",
       "      <td>MALIGNANT</td>\n",
       "      <td>3</td>\n",
       "      <td>MALIGNANT_calcification</td>\n",
       "      <td>no_duplicates</td>\n",
       "    </tr>\n",
       "    <tr>\n",
       "      <th>1</th>\n",
       "      <td>P_00005_RIGHT_MLO</td>\n",
       "      <td>P_00005</td>\n",
       "      <td>3</td>\n",
       "      <td>RIGHT</td>\n",
       "      <td>MLO</td>\n",
       "      <td>1</td>\n",
       "      <td>calcification</td>\n",
       "      <td>AMORPHOUS</td>\n",
       "      <td>CLUSTERED</td>\n",
       "      <td>3</td>\n",
       "      <td>MALIGNANT</td>\n",
       "      <td>3</td>\n",
       "      <td>MALIGNANT_calcification</td>\n",
       "      <td>no_duplicates</td>\n",
       "    </tr>\n",
       "    <tr>\n",
       "      <th>2</th>\n",
       "      <td>P_00007_LEFT_CC</td>\n",
       "      <td>P_00007</td>\n",
       "      <td>4</td>\n",
       "      <td>LEFT</td>\n",
       "      <td>CC</td>\n",
       "      <td>1</td>\n",
       "      <td>calcification</td>\n",
       "      <td>PLEOMORPHIC</td>\n",
       "      <td>LINEAR</td>\n",
       "      <td>4</td>\n",
       "      <td>BENIGN</td>\n",
       "      <td>4</td>\n",
       "      <td>BENIGN_calcification</td>\n",
       "      <td>no_duplicates</td>\n",
       "    </tr>\n",
       "    <tr>\n",
       "      <th>3</th>\n",
       "      <td>P_00007_LEFT_MLO</td>\n",
       "      <td>P_00007</td>\n",
       "      <td>4</td>\n",
       "      <td>LEFT</td>\n",
       "      <td>MLO</td>\n",
       "      <td>1</td>\n",
       "      <td>calcification</td>\n",
       "      <td>PLEOMORPHIC</td>\n",
       "      <td>LINEAR</td>\n",
       "      <td>4</td>\n",
       "      <td>BENIGN</td>\n",
       "      <td>4</td>\n",
       "      <td>BENIGN_calcification</td>\n",
       "      <td>no_duplicates</td>\n",
       "    </tr>\n",
       "    <tr>\n",
       "      <th>4</th>\n",
       "      <td>P_00008_LEFT_CC</td>\n",
       "      <td>P_00008</td>\n",
       "      <td>1</td>\n",
       "      <td>LEFT</td>\n",
       "      <td>CC</td>\n",
       "      <td>1</td>\n",
       "      <td>calcification</td>\n",
       "      <td>NaN</td>\n",
       "      <td>REGIONAL</td>\n",
       "      <td>2</td>\n",
       "      <td>BENIGN</td>\n",
       "      <td>3</td>\n",
       "      <td>BENIGN_calcification</td>\n",
       "      <td>no_duplicates</td>\n",
       "    </tr>\n",
       "  </tbody>\n",
       "</table>\n",
       "</div>"
      ],
      "text/plain": [
       "          Image_Name Patient_ID  Breast_Density Side_L_R Image View  \\\n",
       "0   P_00005_RIGHT_CC    P_00005               3    RIGHT         CC   \n",
       "1  P_00005_RIGHT_MLO    P_00005               3    RIGHT        MLO   \n",
       "2    P_00007_LEFT_CC    P_00007               4     LEFT         CC   \n",
       "3   P_00007_LEFT_MLO    P_00007               4     LEFT        MLO   \n",
       "4    P_00008_LEFT_CC    P_00008               1     LEFT         CC   \n",
       "\n",
       "   Abnormality_ID Abnormality_Type   Mass_Shape Mass_Margins  Assessment  \\\n",
       "0               1    calcification    AMORPHOUS    CLUSTERED           3   \n",
       "1               1    calcification    AMORPHOUS    CLUSTERED           3   \n",
       "2               1    calcification  PLEOMORPHIC       LINEAR           4   \n",
       "3               1    calcification  PLEOMORPHIC       LINEAR           4   \n",
       "4               1    calcification          NaN     REGIONAL           2   \n",
       "\n",
       "   Pathology  Subtlety                    Class     duplicates  \n",
       "0  MALIGNANT         3  MALIGNANT_calcification  no_duplicates  \n",
       "1  MALIGNANT         3  MALIGNANT_calcification  no_duplicates  \n",
       "2     BENIGN         4     BENIGN_calcification  no_duplicates  \n",
       "3     BENIGN         4     BENIGN_calcification  no_duplicates  \n",
       "4     BENIGN         3     BENIGN_calcification  no_duplicates  "
      ]
     },
     "execution_count": 170,
     "metadata": {},
     "output_type": "execute_result"
    }
   ],
   "source": [
    "# here we identify lesion_id's that have duplicate images and those that have only\n",
    "# one image.\n",
    "\n",
    "def identify_duplicates(x):\n",
    "    \n",
    "    unique_list = list(df['Image_Name'])\n",
    "    \n",
    "    if x in unique_list:\n",
    "        return 'no_duplicates'\n",
    "    else:\n",
    "        return 'has_duplicates'\n",
    "    \n",
    "# create a new colum that is a copy of the lesion_id column\n",
    "df_data['duplicates'] = df_data['Image_Name']\n",
    "# apply the function to this new column\n",
    "df_data['duplicates'] = df_data['duplicates'].apply(identify_duplicates)\n",
    "\n",
    "df_data.head()"
   ]
  },
  {
   "cell_type": "code",
   "execution_count": 171,
   "metadata": {
    "collapsed": false
   },
   "outputs": [
    {
     "data": {
      "text/plain": [
       "no_duplicates     2233\n",
       "has_duplicates     478\n",
       "Name: duplicates, dtype: int64"
      ]
     },
     "execution_count": 171,
     "metadata": {},
     "output_type": "execute_result"
    }
   ],
   "source": [
    "df_data['duplicates'].value_counts()\n"
   ]
  },
  {
   "cell_type": "code",
   "execution_count": 172,
   "metadata": {
    "collapsed": false
   },
   "outputs": [
    {
     "data": {
      "text/plain": [
       "(2233, 14)"
      ]
     },
     "execution_count": 172,
     "metadata": {},
     "output_type": "execute_result"
    }
   ],
   "source": [
    "# now we filter out images that don't have duplicates\n",
    "df = df_data[df_data['duplicates'] == 'no_duplicates']\n",
    "\n",
    "df.shape"
   ]
  },
  {
   "cell_type": "code",
   "execution_count": 173,
   "metadata": {
    "collapsed": false
   },
   "outputs": [
    {
     "data": {
      "text/plain": [
       "(447, 14)"
      ]
     },
     "execution_count": 173,
     "metadata": {},
     "output_type": "execute_result"
    }
   ],
   "source": [
    "# now we create a val set using df because we are sure that none of these images\n",
    "# have augmented duplicates in the train set\n",
    "y = df['Class']\n",
    "\n",
    "_, df_val = train_test_split(df, test_size=0.20, random_state=101, stratify=y)\n",
    "\n",
    "df_val.shape"
   ]
  },
  {
   "cell_type": "code",
   "execution_count": 174,
   "metadata": {
    "collapsed": false
   },
   "outputs": [
    {
     "data": {
      "text/plain": [
       "BENIGN_calcification       121\n",
       "BENIGN_mass                118\n",
       "MALIGNANT_mass             113\n",
       "MALIGNANT_calcification     95\n",
       "Name: Class, dtype: int64"
      ]
     },
     "execution_count": 174,
     "metadata": {},
     "output_type": "execute_result"
    }
   ],
   "source": [
    "df_val['Class'].value_counts()\n"
   ]
  },
  {
   "cell_type": "code",
   "execution_count": 175,
   "metadata": {
    "collapsed": false
   },
   "outputs": [
    {
     "name": "stdout",
     "output_type": "stream",
     "text": [
      "2264\n",
      "447\n"
     ]
    }
   ],
   "source": [
    "# This set will be df_data excluding all rows that are in the val set\n",
    "\n",
    "# This function identifies if an image is part of the train\n",
    "# or val set.\n",
    "def identify_val_rows(x):\n",
    "    # create a list of all the lesion_id's in the val set\n",
    "    val_list = list(df_val['Image_Name'])\n",
    "    \n",
    "    if str(x) in val_list:\n",
    "        return 'val'\n",
    "    else:\n",
    "        return 'train'\n",
    "\n",
    "# identify train and val rows\n",
    "\n",
    "# create a new colum that is a copy of the image_id column\n",
    "df_data['train_or_val'] = df_data['Image_Name']\n",
    "# apply the function to this new column\n",
    "df_data['train_or_val'] = df_data['train_or_val'].apply(identify_val_rows)\n",
    "   \n",
    "# filter out train rows\n",
    "df_train = df_data[df_data['train_or_val'] == 'train']\n",
    "\n",
    "\n",
    "print(len(df_train))\n",
    "print(len(df_val))"
   ]
  },
  {
   "cell_type": "code",
   "execution_count": 176,
   "metadata": {
    "collapsed": false
   },
   "outputs": [
    {
     "data": {
      "text/plain": [
       "BENIGN_calcification       764\n",
       "BENIGN_mass                557\n",
       "MALIGNANT_mass             514\n",
       "MALIGNANT_calcification    429\n",
       "Name: Class, dtype: int64"
      ]
     },
     "execution_count": 176,
     "metadata": {},
     "output_type": "execute_result"
    }
   ],
   "source": [
    "df_train['Class'].value_counts()\n"
   ]
  },
  {
   "cell_type": "code",
   "execution_count": 177,
   "metadata": {
    "collapsed": false
   },
   "outputs": [
    {
     "data": {
      "text/plain": [
       "BENIGN_calcification       121\n",
       "BENIGN_mass                118\n",
       "MALIGNANT_mass             113\n",
       "MALIGNANT_calcification     95\n",
       "Name: Class, dtype: int64"
      ]
     },
     "execution_count": 177,
     "metadata": {},
     "output_type": "execute_result"
    }
   ],
   "source": [
    "df_val['Class'].value_counts()\n"
   ]
  },
  {
   "cell_type": "code",
   "execution_count": 178,
   "metadata": {
    "collapsed": true
   },
   "outputs": [],
   "source": [
    "# Set the image_id as the index in df_data\n",
    "df_data.set_index('Image_Name', inplace=True)"
   ]
  },
  {
   "cell_type": "code",
   "execution_count": 210,
   "metadata": {
    "collapsed": true
   },
   "outputs": [],
   "source": [
    "# Get a list of images in each of the two folders\n",
    "folder_1 = os.listdir('F:/CBIS-DDSM/compressed/MASS TRAINING/training/calc_training image')\n",
    "folder_2 = os.listdir('F:/CBIS-DDSM/compressed/MASS TRAINING/training/mass-training image')\n",
    "\n",
    "# Get a list of train and val images\n",
    "train_list = list(df_train['Image_Name'])\n",
    "val_list = list(df_val['Image_Name'])\n",
    "\n",
    "\n",
    "\n",
    "# Transfer the train images\n",
    "\n",
    "for image in train_list:\n",
    "    \n",
    "    fname = image + '.png'\n",
    "    label = df_data.loc[image,'Class']\n",
    "    \n",
    "    if fname in folder_1:\n",
    "        # source path to image\n",
    "        src = os.path.join('F:/CBIS-DDSM/compressed/MASS TRAINING/training/calc_training image', fname)\n",
    "        # destination path to image\n",
    "        dst = os.path.join(train_dir,str(label), str(fname))\n",
    "        # copy the image from the source to the destination\n",
    "        shutil.copyfile(src, dst)\n",
    "\n",
    "    if fname in folder_2:\n",
    "        # source path to image\n",
    "        src = os.path.join('F:/CBIS-DDSM/compressed/MASS TRAINING/training/mass-training image', fname)\n",
    "        # destination path to image\n",
    "        dst = os.path.join(train_dir,str(label), str(fname)) \n",
    "        # copy the image from the source to the destination\n",
    "        shutil.copyfile(src, dst)\n",
    "\n",
    "\n",
    "# Transfer the val images\n",
    "\n",
    "for image in val_list:\n",
    "    \n",
    "    fname = image + '.png'\n",
    "    label = df_data.loc[image,'Class']\n",
    "    \n",
    "    if fname in folder_1:\n",
    "        # source path to image\n",
    "        src = os.path.join('F:/CBIS-DDSM/compressed/MASS TRAINING/training/calc_training image', fname)\n",
    "        # destination path to image\n",
    "        dst = os.path.join(val_dir, str(label), str(fname))\n",
    "        # copy the image from the source to the destination\n",
    "        shutil.copyfile(src, dst)\n",
    "\n",
    "    if fname in folder_2:\n",
    "        # source path to image\n",
    "        src = os.path.join('F:/CBIS-DDSM/compressed/MASS TRAINING/training/mass-training image', fname)\n",
    "        # destination path to image\n",
    "        dst = os.path.join(val_dir, str(label), str(fname))\n",
    "        # copy the image from the source to the destination\n",
    "        shutil.copyfile(src, dst)"
   ]
  },
  {
   "cell_type": "code",
   "execution_count": 211,
   "metadata": {
    "collapsed": false
   },
   "outputs": [
    {
     "name": "stdout",
     "output_type": "stream",
     "text": [
      "353\n",
      "240\n",
      "470\n",
      "448\n"
     ]
    }
   ],
   "source": [
    "print(len(os.listdir('base_dir/train_dir/BENIGN_calcification')))\n",
    "print(len(os.listdir('base_dir/train_dir/MALIGNANT_calcification')))\n",
    "print(len(os.listdir('base_dir/train_dir/BENIGN_mass')))\n",
    "print(len(os.listdir('base_dir/train_dir/MALIGNANT_mass')))\n"
   ]
  },
  {
   "cell_type": "code",
   "execution_count": 206,
   "metadata": {
    "collapsed": false
   },
   "outputs": [
    {
     "name": "stdout",
     "output_type": "stream",
     "text": [
      "91\n",
      "65\n",
      "117\n",
      "111\n"
     ]
    }
   ],
   "source": [
    "print(len(os.listdir('base_dir/val_dir/BENIGN_calcification')))\n",
    "print(len(os.listdir('base_dir/val_dir/MALIGNANT_calcification')))\n",
    "print(len(os.listdir('base_dir/val_dir/BENIGN_mass')))\n",
    "print(len(os.listdir('base_dir/val_dir/MALIGNANT_mass')))\n"
   ]
  },
  {
   "cell_type": "code",
   "execution_count": 4,
   "metadata": {
    "collapsed": false
   },
   "outputs": [
    {
     "ename": "FileExistsError",
     "evalue": "[WinError 183] Cannot create a file when that file already exists: 'D:/Breast Cancer Grad.Proj/augm_dir'",
     "output_type": "error",
     "traceback": [
      "\u001b[0;31m---------------------------------------------------------------------------\u001b[0m",
      "\u001b[0;31mFileExistsError\u001b[0m                           Traceback (most recent call last)",
      "\u001b[0;32m<ipython-input-4-791f70bed421>\u001b[0m in \u001b[0;36m<module>\u001b[0;34m()\u001b[0m\n\u001b[1;32m      7\u001b[0m     \u001b[1;31m# create a base dir\u001b[0m\u001b[1;33m\u001b[0m\u001b[1;33m\u001b[0m\u001b[0m\n\u001b[1;32m      8\u001b[0m     \u001b[0maug_dir\u001b[0m \u001b[1;33m=\u001b[0m \u001b[1;34m'D:/Breast Cancer Grad.Proj/augm_dir'\u001b[0m\u001b[1;33m\u001b[0m\u001b[0m\n\u001b[0;32m----> 9\u001b[0;31m     \u001b[0mos\u001b[0m\u001b[1;33m.\u001b[0m\u001b[0mmkdir\u001b[0m\u001b[1;33m(\u001b[0m\u001b[0maug_dir\u001b[0m\u001b[1;33m)\u001b[0m\u001b[1;33m\u001b[0m\u001b[0m\n\u001b[0m\u001b[1;32m     10\u001b[0m     \u001b[1;31m# create a dir within the base dir to store images of the same class\u001b[0m\u001b[1;33m\u001b[0m\u001b[1;33m\u001b[0m\u001b[0m\n\u001b[1;32m     11\u001b[0m     \u001b[0mimg_dir\u001b[0m \u001b[1;33m=\u001b[0m \u001b[0mos\u001b[0m\u001b[1;33m.\u001b[0m\u001b[0mpath\u001b[0m\u001b[1;33m.\u001b[0m\u001b[0mjoin\u001b[0m\u001b[1;33m(\u001b[0m\u001b[0maugm_dir\u001b[0m\u001b[1;33m,\u001b[0m \u001b[1;34m'img_dir'\u001b[0m\u001b[1;33m)\u001b[0m\u001b[1;33m\u001b[0m\u001b[0m\n",
      "\u001b[0;31mFileExistsError\u001b[0m: [WinError 183] Cannot create a file when that file already exists: 'D:/Breast Cancer Grad.Proj/augm_dir'"
     ]
    }
   ],
   "source": [
    "class_list = ['BENIGN_calcification','BENIGN_mass','MALIGNANT_mass','MALIGNANT_calcification']\n",
    "\n",
    "\n",
    "for item in class_list:\n",
    "    \n",
    "    # We are creating temporary directories here because we delete these directories later\n",
    "    # create a base dir\n",
    "    aug_dir = 'D:/Breast Cancer Grad.Proj/augm_dir'\n",
    "    os.mkdir(aug_dir)\n",
    "    # create a dir within the base dir to store images of the same class\n",
    "    img_dir = os.path.join(aug_dir, 'img_dir')\n",
    "    os.mkdir(img_dir)\n",
    "\n",
    "    # Choose a class\n",
    "    img_class = item\n",
    "\n",
    "    # list all images in that directory\n",
    "    img_list = os.listdir('D:/Breast Cancer Grad.Proj/whole image/train_dir/' + img_class)\n",
    "\n",
    "    # Copy images from the class train dir to the img_dir e.g. class 'mel'\n",
    "    for fname in img_list:\n",
    "            # source path to image\n",
    "            src = os.path.join('D:/Breast Cancer Grad.Proj/whole image/train_dir/' + img_class, fname)\n",
    "            # destination path to image\n",
    "            dst = os.path.join(img_dir, fname)\n",
    "            # copy the image from the source to the destination\n",
    "            shutil.copyfile(src, dst)\n",
    "\n",
    "\n",
    "    # point to a dir containing the images and not to the images themselves\n",
    "    path = aug_dir\n",
    "    save_path = 'D:/Breast Cancer Grad.Proj/whole image/train_dir/' + img_class\n",
    "\n",
    "    # Create a data generator\n",
    "    datagen = ImageDataGenerator(\n",
    "        rotation_range = 25.,\n",
    "        shear_range = .2 ,\n",
    "        zoom_range = [.8, 1.2],\n",
    "        horizontal_flip=True,\n",
    "        vertical_flip=True,\n",
    "    )\n",
    "\n",
    "    batch_size = 64\n",
    "\n",
    "    aug_datagen = datagen.flow_from_directory(path,\n",
    "                                           save_to_dir=save_path,\n",
    "                                           save_format='jpg',\n",
    "                                        \n",
    "                                                    target_size=(224,224),\n",
    "                                                    batch_size=batch_size)\n",
    "\n",
    "\n",
    "\n",
    "    # Generate the augmented images and add them to the training folders\n",
    "    \n",
    "    ###########\n",
    "    \n",
    "    num_aug_images_wanted = 6000 # total number of images we want to have in each class\n",
    "    \n",
    "    ###########\n",
    "    \n",
    "    num_files = len(os.listdir(img_dir))\n",
    "    num_batches = int(np.ceil((num_aug_images_wanted-num_files)/batch_size))\n",
    "\n",
    "    # run the generator and create about 6000 augmented images\n",
    "    for i in range(0,num_batches):\n",
    "\n",
    "        imgs, labels = next(aug_datagen)\n",
    "        \n",
    "    # delete temporary directory with the raw image files\n",
    "    shutil.rmtree('augm_dir')"
   ]
  },
  {
   "cell_type": "code",
   "execution_count": null,
   "metadata": {
    "collapsed": true
   },
   "outputs": [],
   "source": []
  }
 ],
 "metadata": {
  "anaconda-cloud": {},
  "kernelspec": {
   "display_name": "Python [default]",
   "language": "python",
   "name": "python3"
  },
  "language_info": {
   "codemirror_mode": {
    "name": "ipython",
    "version": 3
   },
   "file_extension": ".py",
   "mimetype": "text/x-python",
   "name": "python",
   "nbconvert_exporter": "python",
   "pygments_lexer": "ipython3",
   "version": "3.5.2"
  }
 },
 "nbformat": 4,
 "nbformat_minor": 2
}
